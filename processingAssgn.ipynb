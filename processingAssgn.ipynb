{
 "cells": [
  {
   "cell_type": "markdown",
   "id": "4730c110-3964-4a0d-9020-39abe56bc32f",
   "metadata": {},
   "source": [
    "## Q1.\n"
   ]
  },
  {
   "cell_type": "markdown",
   "id": "3e14c841-ee38-41c5-ae2e-09b33c913084",
   "metadata": {},
   "source": [
    "\"\"\"\n",
    "Multiprocessing in Python is a programming technique that involves the use of multiple processes to perform tasks concurrently.\n",
    "\n",
    "- Parallelism\n",
    "- Isolation\n",
    "- Improved Stability\n",
    "- I/O-Bound Tasks\n",
    "- Exploiting Multiple Cores"
   ]
  },
  {
   "cell_type": "markdown",
   "id": "e83584f9-b9e3-4f8e-a052-95722cc3d9d1",
   "metadata": {},
   "source": [
    "## Q2."
   ]
  },
  {
   "cell_type": "markdown",
   "id": "34214af6-f157-44c0-9131-3fb72ff70818",
   "metadata": {},
   "source": [
    "\"\"\" \n",
    "Multiprocessing : \n",
    "-  In multiprocessing, multiple processes are created, each with its own memory space and resources. Each process runs independently, and communication between processes typically involves inter-process communication \n",
    "(IPC) mechanisms like pipes or queues.\n",
    "\n",
    "- Multiprocessing allows true parallelism, as processes run in separate memory\n",
    "spaces and can fully utilize multiple CPU cores.\n",
    "\n",
    "-  Processes can be more memory-intensive because each process has its own memory space.\n",
    "\n",
    "Mutithreading : \n",
    "-  In multithreading, multiple threads are created within a single process. Threads share the same memory space and resources within the process and can communicate more easily.\n",
    "They are lighter-weight than processes.\n",
    "\n",
    "-  Multithreading can achieve concurrency but may not fully utilize multiple CPU cores, especially in Python due to the Global Interpreter Lock (GIL).\n",
    "\n",
    "- Threads within a process share memory space and are more memory-efficient.\n",
    "\"\"\""
   ]
  },
  {
   "cell_type": "markdown",
   "id": "94243e9b-e453-4245-ba81-11498613c678",
   "metadata": {},
   "source": [
    "## Q3."
   ]
  },
  {
   "cell_type": "code",
   "execution_count": 1,
   "id": "cf6b4da0-1a51-417f-a522-911e79ef266e",
   "metadata": {},
   "outputs": [
    {
     "name": "stdout",
     "output_type": "stream",
     "text": [
      "Number: 1\n",
      "Number: 2\n",
      "Number: 3\n",
      "Number: 4\n",
      "Number: 5\n",
      "Process has finished.\n"
     ]
    }
   ],
   "source": [
    "import multiprocessing\n",
    "\n",
    "def print_numbers():\n",
    "    for i in range(1, 6):\n",
    "        print(f\"Number: {i}\")\n",
    "\n",
    "if __name__ == \"__main__\":\n",
    "    process = multiprocessing.Process(target=print_numbers)\n",
    "\n",
    "    process.start()\n",
    "\n",
    "    process.join()\n",
    "\n",
    "    print(\"Process has finished.\")"
   ]
  },
  {
   "cell_type": "markdown",
   "id": "8da14324-3b8b-4c70-97f3-b52fa571c1ce",
   "metadata": {},
   "source": [
    "## Q4."
   ]
  },
  {
   "cell_type": "markdown",
   "id": "32cfaf3b-b6eb-496d-ac68-069a9a5b4626",
   "metadata": {},
   "source": [
    "\"\"\"\n",
    "A multiprocessing pool in Python, often referred to as a \"Pool,\" is a part of the multiprocessing module that provides a convenient way to parallelize the execution of a function over a collection of data. It allows you to distribute the workload across multiple \n",
    "processes in a controlled and efficient manner.\n",
    "\n",
    "- Parallel Execution\n",
    "- Multiple Workers\n",
    "- Efficiency\n",
    "- Simplified API\n",
    "- Task Management\n",
    "\"\"\""
   ]
  },
  {
   "cell_type": "markdown",
   "id": "bb2b0f41-5bbd-4810-9568-5833fbee598e",
   "metadata": {},
   "source": [
    "## Q5."
   ]
  },
  {
   "cell_type": "code",
   "execution_count": 2,
   "id": "b302f2c1-fee1-48a7-a96f-4428ed1ed169",
   "metadata": {},
   "outputs": [
    {
     "name": "stdout",
     "output_type": "stream",
     "text": [
      "Results: [2, 4, 6, 8, 10, 12, 14, 16, 18, 20]\n"
     ]
    }
   ],
   "source": [
    "import multiprocessing\n",
    "\n",
    "def worker_function(item):\n",
    "    return item * 2\n",
    "\n",
    "if __name__ == \"__main__\":\n",
    "    data = [1, 2, 3, 4, 5, 6, 7, 8, 9, 10]\n",
    "\n",
    "    num_processes = 4 \n",
    "    with multiprocessing.Pool(processes=num_processes) as pool:\n",
    "        results = pool.map(worker_function, data)\n",
    "\n",
    "    print(\"Results:\", results)"
   ]
  },
  {
   "cell_type": "markdown",
   "id": "c6b7265e-a044-46b8-ba4c-3951c4d0335b",
   "metadata": {},
   "source": [
    "## Q6."
   ]
  },
  {
   "cell_type": "code",
   "execution_count": 3,
   "id": "bea049aa-ecdf-4c6b-9c86-d18de5b2e956",
   "metadata": {},
   "outputs": [
    {
     "name": "stdout",
     "output_type": "stream",
     "text": [
      "Process 1: 1Process 3: 3Process 2: 2Process 4: 4\n",
      "\n",
      "\n",
      "\n"
     ]
    }
   ],
   "source": [
    "import multiprocessing\n",
    "\n",
    "def print_number(number):\n",
    "    print(f\"Process {number}: {number}\")\n",
    "\n",
    "if __name__ == \"__main__\":\n",
    "    numbers = [1, 2, 3, 4]\n",
    "    with multiprocessing.Pool(processes=4) as pool:\n",
    "    \n",
    "        pool.map(print_number, numbers)"
   ]
  }
 ],
 "metadata": {
  "kernelspec": {
   "display_name": "Python 3 (ipykernel)",
   "language": "python",
   "name": "python3"
  },
  "language_info": {
   "codemirror_mode": {
    "name": "ipython",
    "version": 3
   },
   "file_extension": ".py",
   "mimetype": "text/x-python",
   "name": "python",
   "nbconvert_exporter": "python",
   "pygments_lexer": "ipython3",
   "version": "3.10.8"
  }
 },
 "nbformat": 4,
 "nbformat_minor": 5
}
